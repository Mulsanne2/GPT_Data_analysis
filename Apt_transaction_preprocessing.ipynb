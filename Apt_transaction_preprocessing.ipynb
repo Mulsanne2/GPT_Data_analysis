{
 "cells": [
  {
   "cell_type": "code",
   "execution_count": 15,
   "id": "13258a65",
   "metadata": {},
   "outputs": [],
   "source": [
    "import pandas as pd\n",
    "from datetime import datetime"
   ]
  },
  {
   "cell_type": "code",
   "execution_count": 16,
   "id": "7edd080b",
   "metadata": {},
   "outputs": [],
   "source": [
    "df = pd.read_csv('data/1_Gracium_25py.csv')"
   ]
  },
  {
   "cell_type": "code",
   "execution_count": 17,
   "id": "39ab2990",
   "metadata": {},
   "outputs": [
    {
     "name": "stdout",
     "output_type": "stream",
     "text": [
      "         Date        Price     Floor\n",
      "0    23.10.28    12억 3,000  143동 20층\n",
      "1    23.10.10    12억 5,000   143동 9층\n",
      "2    23.10.07    13억 5,300  120동 14층\n",
      "3    23.10.07    12억 4,500   139동 6층\n",
      "4    23.10.02    12억 8,500   122동 8층\n",
      "..        ...          ...       ...\n",
      "180  20.11.20    12억 5,000  146동 10층\n",
      "181  20.11.18    12억 4,500  145동 13층\n",
      "182  20.11.04    13억 2,800  128동 10층\n",
      "183  20.11.04  취소13억 2,800  128동 10층\n",
      "184  20.10.25          12억  143동 15층\n",
      "\n",
      "[185 rows x 3 columns]\n"
     ]
    }
   ],
   "source": [
    "print(df)"
   ]
  },
  {
   "cell_type": "code",
   "execution_count": 18,
   "id": "4ef6b7d4",
   "metadata": {},
   "outputs": [],
   "source": [
    "df['Date'] = pd.to_datetime(df['Date'], format='%y.%m.%d')\n",
    "filtered_df = df[df['Date'] > datetime(2022, 10, 1)]"
   ]
  },
  {
   "cell_type": "code",
   "execution_count": 19,
   "id": "91d41813",
   "metadata": {},
   "outputs": [
    {
     "name": "stdout",
     "output_type": "stream",
     "text": [
      "          Date      Price     Floor\n",
      "0   2023-10-28  12억 3,000  143동 20층\n",
      "1   2023-10-10  12억 5,000   143동 9층\n",
      "2   2023-10-07  13억 5,300  120동 14층\n",
      "3   2023-10-07  12억 4,500   139동 6층\n",
      "4   2023-10-02  12억 8,500   122동 8층\n",
      "..         ...        ...       ...\n",
      "115 2022-11-22  10억 2,000   140동 7층\n",
      "116 2022-11-20  11억 2,000  119동 15층\n",
      "117 2022-11-12  10억 4,500  148동 20층\n",
      "118 2022-11-12  10억 7,000   108동 3층\n",
      "119 2022-10-24  10억 7,000   153동 6층\n",
      "\n",
      "[120 rows x 3 columns]\n"
     ]
    }
   ],
   "source": [
    "print(filtered_df)"
   ]
  },
  {
   "cell_type": "code",
   "execution_count": 26,
   "id": "86512dee",
   "metadata": {},
   "outputs": [
    {
     "data": {
      "text/html": [
       "<div>\n",
       "<style scoped>\n",
       "    .dataframe tbody tr th:only-of-type {\n",
       "        vertical-align: middle;\n",
       "    }\n",
       "\n",
       "    .dataframe tbody tr th {\n",
       "        vertical-align: top;\n",
       "    }\n",
       "\n",
       "    .dataframe thead th {\n",
       "        text-align: right;\n",
       "    }\n",
       "</style>\n",
       "<table border=\"1\" class=\"dataframe\">\n",
       "  <thead>\n",
       "    <tr style=\"text-align: right;\">\n",
       "      <th></th>\n",
       "      <th>Month</th>\n",
       "      <th>Count</th>\n",
       "    </tr>\n",
       "  </thead>\n",
       "  <tbody>\n",
       "    <tr>\n",
       "      <th>0</th>\n",
       "      <td>2022-10-01</td>\n",
       "      <td>1</td>\n",
       "    </tr>\n",
       "    <tr>\n",
       "      <th>1</th>\n",
       "      <td>2022-11-01</td>\n",
       "      <td>4</td>\n",
       "    </tr>\n",
       "    <tr>\n",
       "      <th>2</th>\n",
       "      <td>2022-12-01</td>\n",
       "      <td>5</td>\n",
       "    </tr>\n",
       "    <tr>\n",
       "      <th>3</th>\n",
       "      <td>2023-01-01</td>\n",
       "      <td>8</td>\n",
       "    </tr>\n",
       "    <tr>\n",
       "      <th>4</th>\n",
       "      <td>2023-02-01</td>\n",
       "      <td>12</td>\n",
       "    </tr>\n",
       "    <tr>\n",
       "      <th>5</th>\n",
       "      <td>2023-03-01</td>\n",
       "      <td>11</td>\n",
       "    </tr>\n",
       "    <tr>\n",
       "      <th>6</th>\n",
       "      <td>2023-04-01</td>\n",
       "      <td>11</td>\n",
       "    </tr>\n",
       "    <tr>\n",
       "      <th>7</th>\n",
       "      <td>2023-05-01</td>\n",
       "      <td>14</td>\n",
       "    </tr>\n",
       "    <tr>\n",
       "      <th>8</th>\n",
       "      <td>2023-06-01</td>\n",
       "      <td>18</td>\n",
       "    </tr>\n",
       "    <tr>\n",
       "      <th>9</th>\n",
       "      <td>2023-07-01</td>\n",
       "      <td>14</td>\n",
       "    </tr>\n",
       "    <tr>\n",
       "      <th>10</th>\n",
       "      <td>2023-08-01</td>\n",
       "      <td>9</td>\n",
       "    </tr>\n",
       "    <tr>\n",
       "      <th>11</th>\n",
       "      <td>2023-09-01</td>\n",
       "      <td>8</td>\n",
       "    </tr>\n",
       "    <tr>\n",
       "      <th>12</th>\n",
       "      <td>2023-10-01</td>\n",
       "      <td>5</td>\n",
       "    </tr>\n",
       "  </tbody>\n",
       "</table>\n",
       "</div>"
      ],
      "text/plain": [
       "        Month  Count\n",
       "0  2022-10-01      1\n",
       "1  2022-11-01      4\n",
       "2  2022-12-01      5\n",
       "3  2023-01-01      8\n",
       "4  2023-02-01     12\n",
       "5  2023-03-01     11\n",
       "6  2023-04-01     11\n",
       "7  2023-05-01     14\n",
       "8  2023-06-01     18\n",
       "9  2023-07-01     14\n",
       "10 2023-08-01      9\n",
       "11 2023-09-01      8\n",
       "12 2023-10-01      5"
      ]
     },
     "execution_count": 26,
     "metadata": {},
     "output_type": "execute_result"
    }
   ],
   "source": [
    "# '년도-월' 기반으로 그룹화하여 항목 수 계산\n",
    "monthly_counts = filtered_df.groupby(filtered_df['Date'].dt.to_period('M')).size()\n",
    "\n",
    "# 새로운 데이터프레임 생성\n",
    "monthly_counts_df = monthly_counts.reset_index(name='Count')\n",
    "monthly_counts_df.columns = ['Month', 'Count']  # 열 이름 변경\n",
    "monthly_counts_df['Month'] = monthly_counts_df['Month'].dt.to_timestamp()  # Period를 datetime으로 변환\n",
    "\n",
    "monthly_counts_df"
   ]
  },
  {
   "cell_type": "code",
   "execution_count": 27,
   "id": "04b3d92f",
   "metadata": {},
   "outputs": [
    {
     "name": "stdout",
     "output_type": "stream",
     "text": [
      "      Month  Count\n",
      "0   2022-10      1\n",
      "1   2022-11      4\n",
      "2   2022-12      5\n",
      "3   2023-01      8\n",
      "4   2023-02     12\n",
      "5   2023-03     11\n",
      "6   2023-04     11\n",
      "7   2023-05     14\n",
      "8   2023-06     18\n",
      "9   2023-07     14\n",
      "10  2023-08      9\n",
      "11  2023-09      8\n",
      "12  2023-10      5\n"
     ]
    }
   ],
   "source": [
    "monthly_counts_df['Month'] = pd.to_datetime(monthly_counts_df['Month']).dt.to_period('M')\n",
    "print(monthly_counts_df)"
   ]
  },
  {
   "cell_type": "code",
   "execution_count": 28,
   "id": "1f0c9eae",
   "metadata": {},
   "outputs": [
    {
     "data": {
      "text/html": [
       "<div>\n",
       "<style scoped>\n",
       "    .dataframe tbody tr th:only-of-type {\n",
       "        vertical-align: middle;\n",
       "    }\n",
       "\n",
       "    .dataframe tbody tr th {\n",
       "        vertical-align: top;\n",
       "    }\n",
       "\n",
       "    .dataframe thead th {\n",
       "        text-align: right;\n",
       "    }\n",
       "</style>\n",
       "<table border=\"1\" class=\"dataframe\">\n",
       "  <thead>\n",
       "    <tr style=\"text-align: right;\">\n",
       "      <th></th>\n",
       "      <th>Month</th>\n",
       "      <th>Volume</th>\n",
       "    </tr>\n",
       "  </thead>\n",
       "  <tbody>\n",
       "    <tr>\n",
       "      <th>0</th>\n",
       "      <td>2022-10</td>\n",
       "      <td>1</td>\n",
       "    </tr>\n",
       "    <tr>\n",
       "      <th>1</th>\n",
       "      <td>2022-11</td>\n",
       "      <td>4</td>\n",
       "    </tr>\n",
       "    <tr>\n",
       "      <th>2</th>\n",
       "      <td>2022-12</td>\n",
       "      <td>5</td>\n",
       "    </tr>\n",
       "    <tr>\n",
       "      <th>3</th>\n",
       "      <td>2023-01</td>\n",
       "      <td>8</td>\n",
       "    </tr>\n",
       "    <tr>\n",
       "      <th>4</th>\n",
       "      <td>2023-02</td>\n",
       "      <td>12</td>\n",
       "    </tr>\n",
       "    <tr>\n",
       "      <th>5</th>\n",
       "      <td>2023-03</td>\n",
       "      <td>11</td>\n",
       "    </tr>\n",
       "    <tr>\n",
       "      <th>6</th>\n",
       "      <td>2023-04</td>\n",
       "      <td>11</td>\n",
       "    </tr>\n",
       "    <tr>\n",
       "      <th>7</th>\n",
       "      <td>2023-05</td>\n",
       "      <td>14</td>\n",
       "    </tr>\n",
       "    <tr>\n",
       "      <th>8</th>\n",
       "      <td>2023-06</td>\n",
       "      <td>18</td>\n",
       "    </tr>\n",
       "    <tr>\n",
       "      <th>9</th>\n",
       "      <td>2023-07</td>\n",
       "      <td>14</td>\n",
       "    </tr>\n",
       "    <tr>\n",
       "      <th>10</th>\n",
       "      <td>2023-08</td>\n",
       "      <td>9</td>\n",
       "    </tr>\n",
       "    <tr>\n",
       "      <th>11</th>\n",
       "      <td>2023-09</td>\n",
       "      <td>8</td>\n",
       "    </tr>\n",
       "    <tr>\n",
       "      <th>12</th>\n",
       "      <td>2023-10</td>\n",
       "      <td>5</td>\n",
       "    </tr>\n",
       "  </tbody>\n",
       "</table>\n",
       "</div>"
      ],
      "text/plain": [
       "      Month  Volume\n",
       "0   2022-10       1\n",
       "1   2022-11       4\n",
       "2   2022-12       5\n",
       "3   2023-01       8\n",
       "4   2023-02      12\n",
       "5   2023-03      11\n",
       "6   2023-04      11\n",
       "7   2023-05      14\n",
       "8   2023-06      18\n",
       "9   2023-07      14\n",
       "10  2023-08       9\n",
       "11  2023-09       8\n",
       "12  2023-10       5"
      ]
     },
     "execution_count": 28,
     "metadata": {},
     "output_type": "execute_result"
    }
   ],
   "source": [
    "monthly_counts_df = monthly_counts_df.rename(columns={'Count':'Volume'})\n",
    "monthly_counts_df"
   ]
  },
  {
   "cell_type": "code",
   "execution_count": null,
   "id": "53c1c8c0",
   "metadata": {},
   "outputs": [],
   "source": []
  },
  {
   "cell_type": "code",
   "execution_count": null,
   "id": "1caf2ab0",
   "metadata": {},
   "outputs": [],
   "source": []
  }
 ],
 "metadata": {
  "kernelspec": {
   "display_name": "AI",
   "language": "python",
   "name": "ailecture"
  },
  "language_info": {
   "codemirror_mode": {
    "name": "ipython",
    "version": 3
   },
   "file_extension": ".py",
   "mimetype": "text/x-python",
   "name": "python",
   "nbconvert_exporter": "python",
   "pygments_lexer": "ipython3",
   "version": "3.10.13"
  }
 },
 "nbformat": 4,
 "nbformat_minor": 5
}
